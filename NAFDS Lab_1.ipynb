{
 "cells": [
  {
   "cell_type": "code",
   "execution_count": 4,
   "metadata": {},
   "outputs": [],
   "source": [
    "import numpy as np\n",
    "from scipy.linalg import lu\n",
    "from scipy import linalg"
   ]
  },
  {
   "cell_type": "markdown",
   "metadata": {},
   "source": [
    "### Solve the following system of equations using LU Decomposition method:\n",
    "#### Find L and U by hand.\n",
    "#### Confirm that A=LU then solve.\n",
    "- Ex1. 𝟐𝒙+𝟓𝒚=𝟐𝟏, 𝒙+𝟐𝒚=𝟖.\n",
    "- Ex2. 𝒙𝟏+𝒙𝟐+𝒙𝟑=𝟏, 𝟒𝒙𝟏+𝟑𝒙𝟐−𝒙𝟑=𝟔, 𝟑𝒙𝟏+𝟓𝒙_𝟐+𝟑𝒙𝟑=𝟒\n",
    "\n",
    "#### Use scipy.linalg.lu() to slove the previous system using LU decomposition and compare the results."
   ]
  },
  {
   "cell_type": "markdown",
   "metadata": {},
   "source": [
    "### Note (when using scipy):\n",
    "- In the second system of equations We can see the <b>L and U</b> we get are different from the ones we got by hand. \n",
    "- You will also see there is a permutation matrix <b>P</b> that returned by the <b>lu function</b>. \n",
    "- This permutation matrix record how do we change the order of the equations for easier calculation purposes (for example, if first element in first row is zero, it can not be the pivot equation, since you can not turn the first elements in other rows to zero. Therefore, we need to switch the order of the equations to get a new pivot equation). \n",
    "- If you multiply <b>P with A</b>, you will see that this permutation matrix effect.\n",
    "- You will need to arrange the ouput based on the new matrix <b>A</b> achieved by <b>LU</b> multiplication in order to correctly solve the system of equations."
   ]
  },
  {
   "cell_type": "markdown",
   "metadata": {},
   "source": [
    "# This is the first equation LU -> EX1"
   ]
  },
  {
   "cell_type": "code",
   "execution_count": 2,
   "metadata": {},
   "outputs": [
    {
     "data": {
      "text/plain": [
       "array([[2, 5],\n",
       "       [1, 2]])"
      ]
     },
     "execution_count": 2,
     "metadata": {},
     "output_type": "execute_result"
    }
   ],
   "source": [
    "EX1 = np.array([[2,5],[1,2]])\n",
    "EX1"
   ]
  },
  {
   "cell_type": "code",
   "execution_count": 3,
   "metadata": {},
   "outputs": [
    {
     "name": "stdout",
     "output_type": "stream",
     "text": [
      "this is p:  [[1. 0.]\n",
      " [0. 1.]]\n",
      "this is l:  [[1.  0. ]\n",
      " [0.5 1. ]]\n",
      "this is u:  [[ 2.   5. ]\n",
      " [ 0.  -0.5]]\n"
     ]
    }
   ],
   "source": [
    "p, l, u = lu(EX1)\n",
    "print(\"this is p: \", p)\n",
    "print(\"this is l: \",l)\n",
    "print(\"this is u: \",u)"
   ]
  },
  {
   "cell_type": "code",
   "execution_count": 4,
   "metadata": {},
   "outputs": [],
   "source": [
    "p_inv = linalg.inv(p)"
   ]
  },
  {
   "cell_type": "code",
   "execution_count": 5,
   "metadata": {},
   "outputs": [],
   "source": [
    "y = np.array([[21],[8]])"
   ]
  },
  {
   "cell_type": "code",
   "execution_count": 6,
   "metadata": {},
   "outputs": [],
   "source": [
    "L_inv = linalg.inv(l)"
   ]
  },
  {
   "cell_type": "code",
   "execution_count": 7,
   "metadata": {},
   "outputs": [],
   "source": [
    "M = L_inv @ y"
   ]
  },
  {
   "cell_type": "code",
   "execution_count": 8,
   "metadata": {},
   "outputs": [],
   "source": [
    "U_inv = linalg.inv(u)"
   ]
  },
  {
   "cell_type": "code",
   "execution_count": 9,
   "metadata": {},
   "outputs": [
    {
     "data": {
      "text/plain": [
       "array([[-2.],\n",
       "       [ 5.]])"
      ]
     },
     "execution_count": 9,
     "metadata": {},
     "output_type": "execute_result"
    }
   ],
   "source": [
    "x = U_inv @ M\n",
    "x"
   ]
  },
  {
   "cell_type": "code",
   "execution_count": 10,
   "metadata": {},
   "outputs": [],
   "source": [
    "# y = np.array([[21],[8]])\n",
    "# EX1 = np.array([[2,5],[1,2]])\n",
    "def Lu(A, y):\n",
    "    p, l, u = lu(A)\n",
    "    y   =(linalg.inv(p))@y\n",
    "    M = (linalg.inv(l))@y\n",
    "    x = (linalg.inv(u))@M\n",
    "    return x"
   ]
  },
  {
   "cell_type": "code",
   "execution_count": 11,
   "metadata": {},
   "outputs": [
    {
     "data": {
      "text/plain": [
       "array([[-2.],\n",
       "       [ 5.]])"
      ]
     },
     "execution_count": 11,
     "metadata": {},
     "output_type": "execute_result"
    }
   ],
   "source": [
    "Lu(EX1,y)"
   ]
  },
  {
   "cell_type": "code",
   "execution_count": 12,
   "metadata": {},
   "outputs": [
    {
     "name": "stdout",
     "output_type": "stream",
     "text": [
      "this is p:  [[0. 0. 1.]\n",
      " [1. 0. 0.]\n",
      " [0. 1. 0.]]\n",
      "this is l:  [[1.         0.         0.        ]\n",
      " [0.75       1.         0.        ]\n",
      " [0.25       0.09090909 1.        ]]\n",
      "this is u:  [[ 4.          3.         -1.        ]\n",
      " [ 0.          2.75        3.75      ]\n",
      " [ 0.          0.          0.90909091]]\n"
     ]
    }
   ],
   "source": [
    "#Ex2. 𝒙𝟏+𝒙𝟐+𝒙𝟑=𝟏, 𝟒𝒙𝟏+𝟑𝒙𝟐−𝒙𝟑=𝟔, 𝟑𝒙𝟏+𝟓𝒙_𝟐+𝟑𝒙𝟑=𝟒\n",
    "EX2 = np.array([[1,1,1],[4,3,-1],[3,5,3]])\n",
    "p, l, u = lu(EX2)\n",
    "y = np.array([[1],[6],[4]])\n",
    "print(\"this is p: \", p)\n",
    "print(\"this is l: \",l)\n",
    "print(\"this is u: \",u)"
   ]
  },
  {
   "cell_type": "code",
   "execution_count": 13,
   "metadata": {},
   "outputs": [
    {
     "data": {
      "text/plain": [
       "array([[ 1. ],\n",
       "       [ 0.5],\n",
       "       [-0.5]])"
      ]
     },
     "execution_count": 13,
     "metadata": {},
     "output_type": "execute_result"
    }
   ],
   "source": [
    "Lu(EX2,y )"
   ]
  },
  {
   "cell_type": "markdown",
   "metadata": {},
   "source": [
    "# This is the first equation LU -> EX2"
   ]
  },
  {
   "cell_type": "code",
   "execution_count": 14,
   "metadata": {},
   "outputs": [],
   "source": [
    "#Ex2. 𝒙𝟏+𝒙𝟐+𝒙𝟑=𝟏, 𝟒𝒙𝟏+𝟑𝒙𝟐−𝒙𝟑=𝟔, 𝟑𝒙𝟏+𝟓𝒙_𝟐+𝟑𝒙𝟑=𝟒\n",
    "EX2 = np.array([[1,1,1],[4,3,-1],[3,5,3]])\n"
   ]
  },
  {
   "cell_type": "code",
   "execution_count": 15,
   "metadata": {},
   "outputs": [
    {
     "name": "stdout",
     "output_type": "stream",
     "text": [
      "this is p:  [[0. 0. 1.]\n",
      " [1. 0. 0.]\n",
      " [0. 1. 0.]]\n",
      "this is l:  [[1.         0.         0.        ]\n",
      " [0.75       1.         0.        ]\n",
      " [0.25       0.09090909 1.        ]]\n",
      "this is u:  [[ 4.          3.         -1.        ]\n",
      " [ 0.          2.75        3.75      ]\n",
      " [ 0.          0.          0.90909091]]\n"
     ]
    }
   ],
   "source": [
    "p, l, u = lu(EX2)\n",
    "y = np.array([[1],[6],[4]])\n",
    "print(\"this is p: \", p)\n",
    "print(\"this is l: \",l)\n",
    "print(\"this is u: \",u)"
   ]
  },
  {
   "cell_type": "code",
   "execution_count": 16,
   "metadata": {},
   "outputs": [],
   "source": [
    "U_inv = linalg.inv(u)\n",
    "P_inv = linalg.inv(p)\n",
    "L_inv = linalg.inv(l)"
   ]
  },
  {
   "cell_type": "code",
   "execution_count": 17,
   "metadata": {},
   "outputs": [],
   "source": [
    "y = np.array([[1],[6],[4]])\n"
   ]
  },
  {
   "cell_type": "code",
   "execution_count": 18,
   "metadata": {},
   "outputs": [],
   "source": [
    "y_after_edit = P_inv@y"
   ]
  },
  {
   "cell_type": "code",
   "execution_count": 19,
   "metadata": {},
   "outputs": [
    {
     "data": {
      "text/plain": [
       "array([[ 6.        ],\n",
       "       [-0.5       ],\n",
       "       [-0.45454545]])"
      ]
     },
     "execution_count": 19,
     "metadata": {},
     "output_type": "execute_result"
    }
   ],
   "source": [
    "M = L_inv @ y_after_edit\n",
    "M"
   ]
  },
  {
   "cell_type": "code",
   "execution_count": 20,
   "metadata": {},
   "outputs": [
    {
     "data": {
      "text/plain": [
       "array([[ 1. ],\n",
       "       [ 0.5],\n",
       "       [-0.5]])"
      ]
     },
     "execution_count": 20,
     "metadata": {},
     "output_type": "execute_result"
    }
   ],
   "source": [
    "x = U_inv @ M\n",
    "x"
   ]
  },
  {
   "cell_type": "markdown",
   "metadata": {},
   "source": [
    "### Apply the Jacobi and Gauss-Seidel method to solve\n",
    "- 𝟓𝒙𝟏−𝟐𝒙𝟐+𝟑𝒙𝟑=−𝟏, −𝟑𝒙𝟏+𝟗𝒙𝟐+𝒙𝟑=𝟐, 𝟐𝒙𝟏−𝒙𝟐−𝟕𝒙𝟑=𝟑\n",
    "- Solve once without vectorization then use vectorize implementation.\n",
    "- Check for convergance.\n",
    "- Use different tolerence and see the difference between the two methods. e.g. tol: 0.01,0.001,0.0001 ... etc."
   ]
  },
  {
   "cell_type": "code",
   "execution_count": 5,
   "metadata": {},
   "outputs": [],
   "source": [
    "A = np.array([[5, -2, 3],\n",
    "     [-3, 9, 1],\n",
    "     [2, -1, -7]])\n",
    "\n",
    "y = np.array([[-1],[2],[3]])"
   ]
  },
  {
   "cell_type": "code",
   "execution_count": null,
   "metadata": {},
   "outputs": [],
   "source": []
  },
  {
   "cell_type": "code",
   "execution_count": null,
   "metadata": {},
   "outputs": [],
   "source": []
  },
  {
   "cell_type": "markdown",
   "metadata": {},
   "source": [
    "# Iterative way for jacobi method"
   ]
  },
  {
   "cell_type": "code",
   "execution_count": 22,
   "metadata": {},
   "outputs": [
    {
     "name": "stdout",
     "output_type": "stream",
     "text": [
      "k             x1                x2                 x3\n",
      "1 -0.2 0.2222222222222222 -0.42857142857142855\n"
     ]
    }
   ],
   "source": [
    "#𝟓𝒙𝟏−𝟐𝒙𝟐+𝟑𝒙𝟑=−𝟏, −𝟑𝒙𝟏+𝟗𝒙𝟐+𝒙𝟑=𝟐, 𝟐𝒙𝟏−𝒙𝟐−𝟕𝒙𝟑=𝟑\n",
    "A = np.array([[5, -2, 3],\n",
    "     [-3, 9, 1],\n",
    "     [2, -1, -7]])\n",
    "\n",
    "y = np.array([[-1],[2],[3]])\n",
    "x = np.zeros(len(A[0]))\n",
    "x_new = np.zeros(len(A[0]))\n",
    "print('k             x1                x2                 x3' )\n",
    "for i in range(20):\n",
    "    x_new[0]=(-1+2*x[1]-3*x[2])/5\n",
    "    x_new[1]=(2+3*x[0]-x[2])/9\n",
    "    x_new[2]=(3-2*x[0]+x[1])/-7\n",
    "    x[0]=x_new[0]\n",
    "    x[1]=x_new[1]\n",
    "    x[2]=x_new[2]\n",
    "    print(i+1,    x[0],    x[1],    x[2])\n",
    "#     print(x)\n",
    "#     print(x_new)\n",
    "#     print(np.linalg.norm(x_new-x))\n",
    "    if  (np.linalg.norm(x_new-x)/ np.linalg.norm(x_new)) < 0.00001:\n",
    "        break"
   ]
  },
  {
   "cell_type": "code",
   "execution_count": null,
   "metadata": {},
   "outputs": [],
   "source": []
  },
  {
   "cell_type": "code",
   "execution_count": 23,
   "metadata": {},
   "outputs": [],
   "source": [
    "# import numpy as np\n",
    "\n",
    "# def jacobi(A, b, tolerance):\n",
    "#     xk_1 = np.zeros_like(b)\n",
    "#     D = np.diag(A)\n",
    "#     LplusU = A - np.diag(D)\n",
    " \n",
    "#     #this will be vector \n",
    "#     # LplusU @ xk_1 >>> vector \n",
    "#     x_k = (b - (LplusU @ xk_1)) / D\n",
    "    \n",
    "#     while (np.linalg.norm((x_k - xk_1) , 2) / np.linalg.norm(x_k , 2)) > tolerance:\n",
    "#         xk_1 = x_k\n",
    "#         x_k = (b - (LplusU @ xk_1)) / D\n",
    "    \n",
    "#     return x_k"
   ]
  },
  {
   "cell_type": "code",
   "execution_count": 24,
   "metadata": {},
   "outputs": [
    {
     "data": {
      "text/plain": [
       "array([[-0.84000076, -0.21889764,  0.10344828],\n",
       "       [-0.27999609,  0.10551181, -0.37931034],\n",
       "       [ 0.87999734,  0.39370079, -0.34482759]])"
      ]
     },
     "execution_count": 24,
     "metadata": {},
     "output_type": "execute_result"
    }
   ],
   "source": [
    "jacobi(A, y,0.00001 )"
   ]
  },
  {
   "cell_type": "code",
   "execution_count": 25,
   "metadata": {},
   "outputs": [],
   "source": [
    "# x1 = 0\n",
    "# x2 = 0\n",
    "# x3 = 0\n",
    "\n",
    "# print(\"      x1                     x2                     x3\")\n",
    "# for i in range(20):   \n",
    "#     x1_new=(-1-(-2*x2+3*x3))/5\n",
    "#     x2_new=(2-(-3*x1 +x3))/9\n",
    "#     x3_new=(3-(2*x1-x2))/-7\n",
    "#     x1=x1_new\n",
    "#     x2=x2_new\n",
    "#     x3=x3_new\n",
    "#     print(x1,x2,x3)"
   ]
  },
  {
   "cell_type": "code",
   "execution_count": 12,
   "metadata": {},
   "outputs": [],
   "source": [
    "# x1 = 0\n",
    "# x2 = 0\n",
    "# x3 = 0\n",
    "# x_new_ = np.array([0,0,0])\n",
    "# x_ = np.array([0,0,0])\n",
    "# print(\"      x1                     x2                     x3\")\n",
    "# for i in range(20):   \n",
    "#     x1[0]=(-1-(-2*x2+3*x3))/5\n",
    "#     x2[1]=(2-(-3*x1 +x3))/9\n",
    "#     x3[3]=(3-(2*x1-x2))/-7\n",
    "#     x1[0]=x1[0]\n",
    "#     x2[1]=x2[1]\n",
    "#     x3[2]=x3[3]\n",
    "#     print(x1,x2,x3)"
   ]
  },
  {
   "cell_type": "markdown",
   "metadata": {},
   "source": [
    "# Fanction for Jacobi method"
   ]
  },
  {
   "cell_type": "code",
   "execution_count": 13,
   "metadata": {},
   "outputs": [],
   "source": [
    "def jacobi(A,y,N=25):\n",
    "    # Create an initial value                                                                                                                                                             \n",
    "    x = np.zeros(len(A[0]))\n",
    "    # Create a vector of the diagonal elements of A and subtract them from A                                                                                                                                                                     \n",
    "    D = np.diag(A)\n",
    "    R = A - np.diagflat(D)\n",
    "    # Iterate for N times                                                                                                                                                                          \n",
    "    for i in range(N):\n",
    "        x = (y - np.dot(R,x)) / D\n",
    "    return x"
   ]
  },
  {
   "cell_type": "code",
   "execution_count": 14,
   "metadata": {},
   "outputs": [
    {
     "data": {
      "text/plain": [
       "array([[-0.84000023, -0.21889764,  0.10344827],\n",
       "       [-0.27999072,  0.10551181, -0.37931034],\n",
       "       [ 0.87999425,  0.39370079, -0.34482759]])"
      ]
     },
     "execution_count": 14,
     "metadata": {},
     "output_type": "execute_result"
    }
   ],
   "source": [
    "jacobi(A,y,N=25)"
   ]
  },
  {
   "cell_type": "code",
   "execution_count": null,
   "metadata": {},
   "outputs": [],
   "source": [
    "## Jacobi Not Vectorized\n",
    "epsilon = 0.00001"
   ]
  },
  {
   "cell_type": "code",
   "execution_count": null,
   "metadata": {},
   "outputs": [],
   "source": [
    "## Gauss-Seidel Not Vectorized\n",
    "epsilon = 0.00001"
   ]
  },
  {
   "cell_type": "code",
   "execution_count": null,
   "metadata": {},
   "outputs": [],
   "source": [
    "## Jacobi Vectorized\n",
    "epsilon = 0.00001\n"
   ]
  },
  {
   "cell_type": "code",
   "execution_count": null,
   "metadata": {
    "scrolled": true
   },
   "outputs": [],
   "source": [
    "## Gauss-Seidel Vectorized\n",
    "epsilon = 0.00001\n"
   ]
  },
  {
   "cell_type": "code",
   "execution_count": 41,
   "metadata": {},
   "outputs": [
    {
     "name": "stdout",
     "output_type": "stream",
     "text": [
      "[[ 5  0  0]\n",
      " [-3  9  0]\n",
      " [ 2 -1 -7]]\n",
      "[[0]\n",
      " [0]\n",
      " [0]]\n",
      "[[ 0 -2  3]\n",
      " [ 0  0  1]\n",
      " [ 0  0  0]]\n",
      "[[ 0.2         0.          0.        ]\n",
      " [ 0.06666667  0.11111111  0.        ]\n",
      " [ 0.04761905 -0.01587302 -0.14285714]]\n",
      "[[-0.2       ]\n",
      " [ 0.15555556]\n",
      " [-0.50793651]]\n"
     ]
    }
   ],
   "source": []
  },
  {
   "cell_type": "markdown",
   "metadata": {},
   "source": [
    "# Method for Siedel method "
   ]
  },
  {
   "cell_type": "code",
   "execution_count": null,
   "metadata": {},
   "outputs": [],
   "source": []
  },
  {
   "cell_type": "code",
   "execution_count": 6,
   "metadata": {},
   "outputs": [],
   "source": [
    "def gauss_seidel(A, b, tolerance=1e-10, max_iterations=10000):\n",
    "    \n",
    "    x = np.zeros_like(b, dtype=np.double)\n",
    "    \n",
    "    #Iterate\n",
    "    for k in range(max_iterations):\n",
    "        \n",
    "        x_old  = x.copy()\n",
    "        \n",
    "        #Loop over rows\n",
    "        for i in range(A.shape[0]):\n",
    "            x[i] = (b[i] - np.dot(A[i,:i], x[:i]) - np.dot(A[i,(i+1):], x_old[(i+1):])) / A[i ,i]\n",
    "            \n",
    "        #Stop condition \n",
    "        if np.linalg.norm(x - x_old, ord=np.inf) / np.linalg.norm(x, ord=np.inf) < tolerance:\n",
    "            break\n",
    "            \n",
    "    return x"
   ]
  },
  {
   "cell_type": "code",
   "execution_count": 7,
   "metadata": {},
   "outputs": [
    {
     "data": {
      "text/plain": [
       "array([[ 0.18611987],\n",
       "       [ 0.33123028],\n",
       "       [-0.42271293]])"
      ]
     },
     "execution_count": 7,
     "metadata": {},
     "output_type": "execute_result"
    }
   ],
   "source": [
    "gauss_seidel(A, y,1e-10, 10000)"
   ]
  },
  {
   "cell_type": "markdown",
   "metadata": {},
   "source": [
    "### Use np.linalg.solve() to solve the previous system and compare the results."
   ]
  },
  {
   "cell_type": "code",
   "execution_count": 16,
   "metadata": {
    "scrolled": true
   },
   "outputs": [
    {
     "data": {
      "text/plain": [
       "array([[ 0.18611987],\n",
       "       [ 0.33123028],\n",
       "       [-0.42271293]])"
      ]
     },
     "execution_count": 16,
     "metadata": {},
     "output_type": "execute_result"
    }
   ],
   "source": [
    "x = np.linalg.solve(A,y)\n",
    "x"
   ]
  },
  {
   "cell_type": "code",
   "execution_count": null,
   "metadata": {},
   "outputs": [],
   "source": []
  },
  {
   "cell_type": "markdown",
   "metadata": {},
   "source": [
    "### Use scipy.linalg.lu() to slove the previous system using LU decomposition and compare the results."
   ]
  },
  {
   "cell_type": "code",
   "execution_count": 21,
   "metadata": {},
   "outputs": [],
   "source": [
    "from scipy.linalg import lu\n",
    "#scipy.linalg.lu()\n",
    "P, L, U = lu(A)"
   ]
  },
  {
   "cell_type": "code",
   "execution_count": 22,
   "metadata": {},
   "outputs": [
    {
     "data": {
      "text/plain": [
       "array([[1., 0., 0.],\n",
       "       [0., 1., 0.],\n",
       "       [0., 0., 1.]])"
      ]
     },
     "execution_count": 22,
     "metadata": {},
     "output_type": "execute_result"
    }
   ],
   "source": [
    "P"
   ]
  },
  {
   "cell_type": "code",
   "execution_count": 23,
   "metadata": {},
   "outputs": [
    {
     "data": {
      "text/plain": [
       "array([[ 1.        ,  0.        ,  0.        ],\n",
       "       [-0.6       ,  1.        ,  0.        ],\n",
       "       [ 0.4       , -0.02564103,  1.        ]])"
      ]
     },
     "execution_count": 23,
     "metadata": {},
     "output_type": "execute_result"
    }
   ],
   "source": [
    "L"
   ]
  },
  {
   "cell_type": "code",
   "execution_count": 24,
   "metadata": {},
   "outputs": [
    {
     "data": {
      "text/plain": [
       "array([[ 5.        , -2.        ,  3.        ],\n",
       "       [ 0.        ,  7.8       ,  2.8       ],\n",
       "       [ 0.        ,  0.        , -8.12820513]])"
      ]
     },
     "execution_count": 24,
     "metadata": {},
     "output_type": "execute_result"
    }
   ],
   "source": [
    "U"
   ]
  },
  {
   "cell_type": "code",
   "execution_count": null,
   "metadata": {},
   "outputs": [],
   "source": []
  },
  {
   "cell_type": "code",
   "execution_count": null,
   "metadata": {},
   "outputs": [],
   "source": []
  },
  {
   "cell_type": "code",
   "execution_count": null,
   "metadata": {},
   "outputs": [],
   "source": []
  },
  {
   "cell_type": "code",
   "execution_count": null,
   "metadata": {},
   "outputs": [],
   "source": []
  }
 ],
 "metadata": {
  "kernelspec": {
   "display_name": "Python 3",
   "language": "python",
   "name": "python3"
  },
  "language_info": {
   "codemirror_mode": {
    "name": "ipython",
    "version": 3
   },
   "file_extension": ".py",
   "mimetype": "text/x-python",
   "name": "python",
   "nbconvert_exporter": "python",
   "pygments_lexer": "ipython3",
   "version": "3.7.9"
  }
 },
 "nbformat": 4,
 "nbformat_minor": 5
}
